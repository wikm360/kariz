{
 "cells": [
  {
   "cell_type": "markdown",
   "metadata": {},
   "source": [
    "# Requests Basic"
   ]
  },
  {
   "cell_type": "markdown",
   "metadata": {},
   "source": [
    "## Import essential libraries"
   ]
  },
  {
   "cell_type": "code",
   "execution_count": 3,
   "metadata": {},
   "outputs": [],
   "source": [
    "import requests\n",
    "from bs4 import BeautifulSoup\n"
   ]
  },
  {
   "cell_type": "markdown",
   "metadata": {},
   "source": [
    "## Get url and content from url"
   ]
  },
  {
   "cell_type": "code",
   "execution_count": null,
   "metadata": {},
   "outputs": [],
   "source": [
    "url = \"https://www.ebay.com/sch/i.html?_nkw=labtop&_sacat=0&_from=R40&_trksid=p4432023.m570.l1313\"\n",
    "response = requests.get(url)\n",
    "page_html = response.text\n",
    "soup = BeautifulSoup(page_html, 'html.parser')\n",
    "soup"
   ]
  },
  {
   "cell_type": "code",
   "execution_count": null,
   "metadata": {},
   "outputs": [],
   "source": [
    "urls = [\"url1\", 'url2']\n",
    "resposes = []\n",
    "for url in urls:\n",
    "    respons = requests.get(url)\n",
    "    page_html = response.text\n",
    "    soup = BeautifulSoup(page_html, 'html.parser')\n",
    "    resposes.append(soup)\n",
    "\n",
    "resposes[1].find_all()"
   ]
  },
  {
   "cell_type": "markdown",
   "metadata": {},
   "source": [
    "## Selectors"
   ]
  },
  {
   "cell_type": "markdown",
   "metadata": {},
   "source": [
    "### find page title element"
   ]
  },
  {
   "cell_type": "code",
   "execution_count": 12,
   "metadata": {},
   "outputs": [
    {
     "data": {
      "text/plain": [
       "<title>Labtop for sale | eBay</title>"
      ]
     },
     "execution_count": 12,
     "metadata": {},
     "output_type": "execute_result"
    }
   ],
   "source": [
    "title = soup.find(\"title\")\n",
    "title"
   ]
  },
  {
   "cell_type": "code",
   "execution_count": 11,
   "metadata": {},
   "outputs": [
    {
     "data": {
      "text/plain": [
       "<title>Labtop for sale | eBay</title>"
      ]
     },
     "execution_count": 11,
     "metadata": {},
     "output_type": "execute_result"
    }
   ],
   "source": [
    "title = soup.title\n",
    "title"
   ]
  },
  {
   "cell_type": "markdown",
   "metadata": {},
   "source": [
    "### Selection"
   ]
  },
  {
   "cell_type": "markdown",
   "metadata": {},
   "source": [
    "#### find"
   ]
  },
  {
   "cell_type": "code",
   "execution_count": 14,
   "metadata": {},
   "outputs": [
    {
     "data": {
      "text/plain": [
       "'Shop on eBay'"
      ]
     },
     "execution_count": 14,
     "metadata": {},
     "output_type": "execute_result"
    }
   ],
   "source": [
    "elem = soup.find('div', class_='s-item__title')\n",
    "elem.text"
   ]
  },
  {
   "cell_type": "markdown",
   "metadata": {},
   "source": [
    "#### findAll"
   ]
  },
  {
   "cell_type": "code",
   "execution_count": null,
   "metadata": {},
   "outputs": [
    {
     "data": {
      "text/plain": [
       "bs4.element.ResultSet"
      ]
     },
     "execution_count": 20,
     "metadata": {},
     "output_type": "execute_result"
    }
   ],
   "source": [
    "elements = soup.find_all('div', class_=\"s-item__title\")\n",
    "type(elements)\n",
    "# for elem in elements[2:10]:\n",
    "#     print(elem.text)"
   ]
  },
  {
   "cell_type": "markdown",
   "metadata": {},
   "source": [
    "#### attrs in find method"
   ]
  },
  {
   "cell_type": "code",
   "execution_count": 24,
   "metadata": {},
   "outputs": [
    {
     "data": {
      "text/plain": [
       "'DELL 5300 LAPTOP i5 8365U | 16GB | 512GB M.2 SATA | WEBCAM | HD | WINDOWS 11'"
      ]
     },
     "execution_count": 24,
     "metadata": {},
     "output_type": "execute_result"
    }
   ],
   "source": [
    "elem = soup.find_all('span', attrs={\"aria-level\":\"3\", \"role\":\"heading\"})[3]\n",
    "elem.text"
   ]
  },
  {
   "cell_type": "markdown",
   "metadata": {},
   "source": [
    "#### string in find method"
   ]
  },
  {
   "cell_type": "code",
   "execution_count": 28,
   "metadata": {},
   "outputs": [
    {
     "data": {
      "text/plain": [
       "<span class=\"BOLD\">260,000</span>"
      ]
     },
     "execution_count": 28,
     "metadata": {},
     "output_type": "execute_result"
    }
   ],
   "source": [
    "elem = soup.find_all('span', string=\"260,000\")[0]\n",
    "elem"
   ]
  },
  {
   "cell_type": "markdown",
   "metadata": {},
   "source": [
    "#### class_ in find method"
   ]
  },
  {
   "cell_type": "code",
   "execution_count": null,
   "metadata": {},
   "outputs": [],
   "source": [
    "elements = soup.find_all('div', class_=\"s-item__title\")\n"
   ]
  },
  {
   "cell_type": "markdown",
   "metadata": {},
   "source": [
    "### Navigating"
   ]
  },
  {
   "cell_type": "markdown",
   "metadata": {},
   "source": [
    "#### find parent"
   ]
  },
  {
   "cell_type": "code",
   "execution_count": 29,
   "metadata": {},
   "outputs": [
    {
     "data": {
      "text/plain": [
       "<h1 class=\"srp-controls__count-heading\" data-marko-key=\"12 s0-55-0-9-8-4-2-0-5[0]\"><!--F#f_0--><span class=\"BOLD\">260,000</span><!--F/--><!--F#f_0-->+ results for <!--F/--><!--F#f_0--><span class=\"BOLD\">laptop</span><!--F/--></h1>"
      ]
     },
     "execution_count": 29,
     "metadata": {},
     "output_type": "execute_result"
    }
   ],
   "source": [
    "parent = elem.parent\n",
    "parent"
   ]
  },
  {
   "cell_type": "markdown",
   "metadata": {},
   "source": [
    "#### find next sibling"
   ]
  },
  {
   "cell_type": "code",
   "execution_count": null,
   "metadata": {},
   "outputs": [
    {
     "data": {
      "text/plain": [
       "'F/'"
      ]
     },
     "execution_count": 33,
     "metadata": {},
     "output_type": "execute_result"
    }
   ],
   "source": [
    "elem = soup.find_all('span', string=\"260,000\")[0]\n",
    "sib = elem.nextSibling\n",
    "sib"
   ]
  },
  {
   "cell_type": "markdown",
   "metadata": {},
   "source": [
    "#### find previous sibling"
   ]
  },
  {
   "cell_type": "code",
   "execution_count": 34,
   "metadata": {},
   "outputs": [
    {
     "data": {
      "text/plain": [
       "<span class=\"BOLD\">260,000</span>"
      ]
     },
     "execution_count": 34,
     "metadata": {},
     "output_type": "execute_result"
    }
   ],
   "source": [
    "pre_sib = sib.previousSibling\n",
    "pre_sib"
   ]
  },
  {
   "cell_type": "markdown",
   "metadata": {},
   "source": [
    "#### find children"
   ]
  },
  {
   "cell_type": "code",
   "execution_count": 36,
   "metadata": {},
   "outputs": [
    {
     "data": {
      "text/plain": [
       "82"
      ]
     },
     "execution_count": 36,
     "metadata": {},
     "output_type": "execute_result"
    }
   ],
   "source": [
    "elem = soup.find('ul', class_=\"srp-results srp-list clearfix\")\n",
    "children = elem.children\n",
    "len(list(children))"
   ]
  },
  {
   "cell_type": "markdown",
   "metadata": {},
   "source": [
    "### Extraction"
   ]
  },
  {
   "cell_type": "markdown",
   "metadata": {},
   "source": [
    "#### get the href value"
   ]
  },
  {
   "cell_type": "code",
   "execution_count": null,
   "metadata": {},
   "outputs": [],
   "source": [
    "r1 = requests.get(url1)\n",
    "r1 = requests.get(url1)"
   ]
  },
  {
   "cell_type": "code",
   "execution_count": 41,
   "metadata": {},
   "outputs": [
    {
     "name": "stdout",
     "output_type": "stream",
     "text": [
      "https://www.ebay.com/itm/186999874807?_skw=labtop&hash=item2b8a0fa4f7:g:TH0AAeSwnF9oShhf&itmprp=enc%3AAQAKAAAA4FkggFvd1GGDu0w3yXCmi1d%2FjIabQnEJDU3gArtoUevMhUFM5bR1n2Aq%2FjHPrCiAIctsKH4aWtM4nq1uEnqGFZrCmXUvX4ExqT9GpbSzeVT2MiejHVNo%2BRSfQG%2BHP9jI%2FW%2FCNyviSZO%2BO%2FU0FU64nFGfiOgvjK0n4EEiMHG88yE1%2Fwl6Bty%2BXZEKQkeKQHDm39oYuAwqXJvjgXsmOmrAP0U4vUxDpmSFN5KTRSI2ZFQ7XKw90AT5Mz6VbHaOzQDW00adSYVRZliyLjIG1YBgVKGrsw6ZDfnxKjLN2NfBkAEK%7Ctkp%3ABFBM-LGOsvxl\n",
      "_____________\n",
      "https://www.ebay.com/itm/186999874807?_skw=labtop&hash=item2b8a0fa4f7:g:TH0AAeSwnF9oShhf&itmprp=enc%3AAQAKAAAA4FkggFvd1GGDu0w3yXCmi1d%2FjIabQnEJDU3gArtoUevMhUFM5bR1n2Aq%2FjHPrCiAIctsKH4aWtM4nq1uEnqGFZrCmXUvX4ExqT9GpbSzeVT2MiejHVNo%2BRSfQG%2BHP9jI%2FW%2FCNyviSZO%2BO%2FU0FU64nFGfiOgvjK0n4EEiMHG88yE1%2Fwl6Bty%2BXZEKQkeKQHDm39oYuAwqXJvjgXsmOmrAP0U4vUxDpmSFN5KTRSI2ZFQ7XKw90AT5Mz6VbHaOzQDW00adSYVRZliyLjIG1YBgVKGrsw6ZDfnxKjLN2NfBkAEK%7Ctkp%3ABFBM-LGOsvxl\n",
      "_____________\n",
      "https://www.ebay.com/itm/285721945582?_skw=labtop&hash=item42865ae5ee:g:g5YAAOSwFxhl1xhc&itmprp=enc%3AAQAKAAAA4FkggFvd1GGDu0w3yXCmi1dOUhN8x3EMVwncUhPLiAittewjDuodoAbs%2BkxHbQgZfuv1NoWOI23sdUXL7sGUP8vCe3c6MNZQu8CDPJ45KEJNpE7qoRHMwpeKXag4PhWWhZidrCHJHtpGgjU8c5vDmjg6nJhz124fJjrG9vU%2BXzzFoO9eb6PdU9Po%2BPP0RK1bFIhACGIaa1xHbhKFFMdIL%2FOpaRWxZPonE4vqyEXIbQ80S49mweotFFzY17L%2FKlrSwDcxrvIAWamYBeV4V8zvScfmCVHtbLSd0BXeQHr0rZMN%7Ctkp%3ABFBM-LGOsvxl\n",
      "_____________\n",
      "https://www.ebay.com/itm/285721945582?_skw=labtop&hash=item42865ae5ee:g:g5YAAOSwFxhl1xhc&itmprp=enc%3AAQAKAAAA4FkggFvd1GGDu0w3yXCmi1dOUhN8x3EMVwncUhPLiAittewjDuodoAbs%2BkxHbQgZfuv1NoWOI23sdUXL7sGUP8vCe3c6MNZQu8CDPJ45KEJNpE7qoRHMwpeKXag4PhWWhZidrCHJHtpGgjU8c5vDmjg6nJhz124fJjrG9vU%2BXzzFoO9eb6PdU9Po%2BPP0RK1bFIhACGIaa1xHbhKFFMdIL%2FOpaRWxZPonE4vqyEXIbQ80S49mweotFFzY17L%2FKlrSwDcxrvIAWamYBeV4V8zvScfmCVHtbLSd0BXeQHr0rZMN%7Ctkp%3ABFBM-LGOsvxl\n",
      "_____________\n",
      "https://www.ebay.com/itm/296615358896?_skw=labtop&hash=item450fa731b0:g:JsQAAOSw3uJml9WC&itmprp=enc%3AAQAKAAAA4FkggFvd1GGDu0w3yXCmi1cuif2PczAsfM8dz0mJL7h8vjq1xUDS%2F34hIJdW51KuergPJ09s5Lw4YS2C%2FIlEnbO3EaUl2kWqV8qXEde7tJU1oViD7PJQD3zTX6Fr7Ah%2FjKsVdWnny%2FQPP5%2BqFFY2VBWobnHGErmqUL4N3bXENAusSnCQTGgZ%2BarY84LyCrPdQ2ccbedrkkp5rylF2gh3%2FfSXa24PuXjoO4zv0WFPmZYl4Ac9QL%2BdK%2FHE6ZpI9o%2FQKyDk7%2FeHFMP%2FfW0ucsepV4dZ0tgX95Raini6XwkRDA32%7Ctkp%3ABFBM-LGOsvxl\n",
      "_____________\n",
      "https://www.ebay.com/itm/296615358896?_skw=labtop&hash=item450fa731b0:g:JsQAAOSw3uJml9WC&itmprp=enc%3AAQAKAAAA4FkggFvd1GGDu0w3yXCmi1cuif2PczAsfM8dz0mJL7h8vjq1xUDS%2F34hIJdW51KuergPJ09s5Lw4YS2C%2FIlEnbO3EaUl2kWqV8qXEde7tJU1oViD7PJQD3zTX6Fr7Ah%2FjKsVdWnny%2FQPP5%2BqFFY2VBWobnHGErmqUL4N3bXENAusSnCQTGgZ%2BarY84LyCrPdQ2ccbedrkkp5rylF2gh3%2FfSXa24PuXjoO4zv0WFPmZYl4Ac9QL%2BdK%2FHE6ZpI9o%2FQKyDk7%2FeHFMP%2FfW0ucsepV4dZ0tgX95Raini6XwkRDA32%7Ctkp%3ABFBM-LGOsvxl\n",
      "_____________\n",
      "https://www.ebay.com/itm/297281208037?_skw=labtop&hash=item4537573ee5:g:CssAAOSwqYFoGbM0&itmprp=enc%3AAQAKAAAA4FkggFvd1GGDu0w3yXCmi1eYb2%2F%2BoPwvpCh%2F7%2Bjr6Kr%2FUWpw7qg5yvznaV3zAw1MRmXX0a4y3epDYbpD8n%2BTTak9lf01llv1a6qcCtzgYWHGrLKqLOK%2FfcZoy7HsCrnAiDVx4hjooho0Syrcg8ZSKCJSBZDJ4sGd2R%2Banl3OVvVnMkPrE%2FjloAaexSRHMBH95RmJXegZYxYbDMVl3qh2P26TPbWKC5nJZnwUxL6rL6D5ZlACmKtKoUfLTkaJVqV6auJl1Ojx%2BeYnJC%2Fg1jl50wMILKxsMDGiSY6PS2jVbZ7D%7Ctkp%3ABFBM-LGOsvxl\n",
      "_____________\n",
      "https://www.ebay.com/itm/297281208037?_skw=labtop&hash=item4537573ee5:g:CssAAOSwqYFoGbM0&itmprp=enc%3AAQAKAAAA4FkggFvd1GGDu0w3yXCmi1eYb2%2F%2BoPwvpCh%2F7%2Bjr6Kr%2FUWpw7qg5yvznaV3zAw1MRmXX0a4y3epDYbpD8n%2BTTak9lf01llv1a6qcCtzgYWHGrLKqLOK%2FfcZoy7HsCrnAiDVx4hjooho0Syrcg8ZSKCJSBZDJ4sGd2R%2Banl3OVvVnMkPrE%2FjloAaexSRHMBH95RmJXegZYxYbDMVl3qh2P26TPbWKC5nJZnwUxL6rL6D5ZlACmKtKoUfLTkaJVqV6auJl1Ojx%2BeYnJC%2Fg1jl50wMILKxsMDGiSY6PS2jVbZ7D%7Ctkp%3ABFBM-LGOsvxl\n",
      "_____________\n",
      "https://www.ebay.com/itm/335881869914?_skw=labtop&hash=item4e341e9a5a:g:MUgAAOSwzXZmo4M7&itmprp=enc%3AAQAKAAAAwFkggFvd1GGDu0w3yXCmi1dDskuiw0zdHj6wprrji%2FhmeRf1yULxIo%2F%2Bb2yPqIYkVUK7ux%2BtmW8gQHIfNlF%2BOsEVS%2BYAF9d7%2FDfAgxgQMcNWR2jV2IQ8rls%2B2K7D57w3dQzpbPb%2FfEuy9UcB6mw0jZAOy7YK90EJhiAJb9EyF4Y3CnfUjz%2FJKgCoQ2VcubvKfFQSoH4WzKdXIECi2ZRQRLFNNK1RY9YTBZ67z%2BsQ0%2BrjHZBvxKficDUdZVrSHSinng%3D%3D%7Ctkp%3ABk9SR_ixjrL8ZQ\n",
      "_____________\n",
      "https://www.ebay.com/itm/335881869914?_skw=labtop&hash=item4e341e9a5a:g:MUgAAOSwzXZmo4M7&itmprp=enc%3AAQAKAAAAwFkggFvd1GGDu0w3yXCmi1dDskuiw0zdHj6wprrji%2FhmeRf1yULxIo%2F%2Bb2yPqIYkVUK7ux%2BtmW8gQHIfNlF%2BOsEVS%2BYAF9d7%2FDfAgxgQMcNWR2jV2IQ8rls%2B2K7D57w3dQzpbPb%2FfEuy9UcB6mw0jZAOy7YK90EJhiAJb9EyF4Y3CnfUjz%2FJKgCoQ2VcubvKfFQSoH4WzKdXIECi2ZRQRLFNNK1RY9YTBZ67z%2BsQ0%2BrjHZBvxKficDUdZVrSHSinng%3D%3D%7Ctkp%3ABk9SR_ixjrL8ZQ\n",
      "_____________\n"
     ]
    }
   ],
   "source": [
    "elems = soup.find_all('a', attrs={\"_sp\":\"p2351460.m1686.l7400\"})\n",
    "len(elems)\n",
    "for elem in elems[:10]:\n",
    "    print(elem['href'])\n",
    "    print('_____________')"
   ]
  },
  {
   "cell_type": "code",
   "execution_count": 47,
   "metadata": {},
   "outputs": [
    {
     "data": {
      "text/plain": [
       "'https://ir.ebaystatic.com/rs/v/fxxj3ttftm5ltcqnto1o4baovyl.png'"
      ]
     },
     "execution_count": 47,
     "metadata": {},
     "output_type": "execute_result"
    }
   ],
   "source": [
    "elems = soup.find_all('div', class_='s-item__image-wrapper image-treatment')\n",
    "elem = elems[1]\n",
    "elem.img['src']"
   ]
  },
  {
   "cell_type": "markdown",
   "metadata": {},
   "source": [
    "#### extract any attribute with this method"
   ]
  },
  {
   "cell_type": "code",
   "execution_count": null,
   "metadata": {},
   "outputs": [],
   "source": [
    "print('hello')"
   ]
  },
  {
   "cell_type": "code",
   "execution_count": 49,
   "metadata": {},
   "outputs": [
    {
     "data": {
      "text/plain": [
       "['s-item__image-wrapper', 'image-treatment']"
      ]
     },
     "execution_count": 49,
     "metadata": {},
     "output_type": "execute_result"
    }
   ],
   "source": [
    "elem['class']"
   ]
  },
  {
   "cell_type": "markdown",
   "metadata": {},
   "source": [
    "## Pagination"
   ]
  },
  {
   "cell_type": "code",
   "execution_count": null,
   "metadata": {},
   "outputs": [
    {
     "name": "stdout",
     "output_type": "stream",
     "text": [
      "page_no -->  1\n"
     ]
    },
    {
     "name": "stdout",
     "output_type": "stream",
     "text": [
      "$20.00\n",
      "$20.00\n",
      "EUR 291.12\n",
      "EUR 202.80\n",
      "EUR 224.99 to EUR 412.49\n",
      "77\n",
      "page_no -->  2\n",
      "$20.00\n",
      "$20.00\n",
      "EUR 126.36\n",
      "EUR 99.90\n",
      "EUR 185.42 to EUR 683.76\n",
      "77\n",
      "page_no -->  3\n"
     ]
    }
   ],
   "source": [
    "for page_no in range(1, 5):\n",
    "    print(\"page_no --> \", page_no)\n",
    "    url = f\"https://www.ebay.com/sch/i.html?_nkw=labtop&_sacat=0&_from=R40&_pgn={page_no}\"\n",
    "    r = requests.get(url)\n",
    "    page = r.text\n",
    "    soup = BeautifulSoup(page, \"html.parser\")\n",
    "    elems = soup.find_all('span', class_='s-item__price')\n",
    "    for elem in elems[:5]:\n",
    "        print(elem.text)\n",
    "    print(len(list(elems)))\n",
    "    "
   ]
  }
 ],
 "metadata": {
  "kernelspec": {
   "display_name": "env",
   "language": "python",
   "name": "python3"
  },
  "language_info": {
   "codemirror_mode": {
    "name": "ipython",
    "version": 3
   },
   "file_extension": ".py",
   "mimetype": "text/x-python",
   "name": "python",
   "nbconvert_exporter": "python",
   "pygments_lexer": "ipython3",
   "version": "3.12.4"
  }
 },
 "nbformat": 4,
 "nbformat_minor": 2
}
