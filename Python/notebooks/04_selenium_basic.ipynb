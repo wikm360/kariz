{
 "cells": [
  {
   "cell_type": "markdown",
   "metadata": {},
   "source": [
    "# Selenium Basic"
   ]
  },
  {
   "cell_type": "markdown",
   "metadata": {},
   "source": [
    "## Downloading and Setting Up ChromeDriver\n",
    "### General Steps\n",
    "- First, you need to download ChromeDriver and set its path in the system environment variables so that programs like Selenium can use it.\n",
    "- link for download chromdriver: https://googlechromelabs.github.io/chrome-for-testing/\n",
    "- download stable version of chromedriver\n",
    "#### For Windows\n",
    "- Download and unzip ChromeDriver.\n",
    "- Follow these steps:\n",
    "  1. Go to **System Environment** settings.\n",
    "  2. Click on **Environment Variables**.\n",
    "  3. Double-click on **Path**.\n",
    "  4. Click **New**.\n",
    "  5. Enter the ChromeDriver folder path (e.g., `C:\\path\\to\\chromedriver`) and save.\n",
    "\n",
    "#### For macOS\n",
    "- Download and unzip ChromeDriver.\n",
    "- Follow these steps:\n",
    "  1. Open the terminal.\n",
    "  2. Run the following command to add the path to the environment variable:\n",
    "     ```bash\n",
    "     export PATH=$PATH:/path/to/chromedriver\n",
    "     echo 'export PATH=$PATH:/path/to/chromedriver' >> ~/.zshrc\n",
    "     source ~/.zshrc\n",
    "\n",
    "#### For Linux\n",
    "- Download and unzip ChromeDriver.\n",
    "- Follow these steps:\n",
    "  1. Open the terminal.\n",
    "  2. Run the following command to add the path to the environment variable:\n",
    "     ```bash\n",
    "     export PATH=$PATH:/path/to/chromedriver\n",
    "     echo 'export PATH=$PATH:/path/to/chromedriver' >> ~/.bashrc\n",
    "     source ~/.bashrc\n",
    "### Important Notes\n",
    "- After setting the path, restart the terminal or system to apply changes.\n",
    "- To verify, run `chromedriver --version` in the terminal (or Command Prompt on Windows) to check the version."
   ]
  },
  {
   "cell_type": "markdown",
   "metadata": {},
   "source": [
    "## Import essential libraries"
   ]
  },
  {
   "cell_type": "code",
   "execution_count": 1,
   "metadata": {},
   "outputs": [],
   "source": [
    "from selenium import webdriver\n",
    "from selenium.webdriver.chrome.options import Options\n",
    "from selenium.webdriver.common.by import By\n",
    "from selenium.webdriver.support.ui import WebDriverWait\n",
    "from selenium.webdriver.support import expected_conditions as EC\n",
    "from selenium.webdriver.common.action_chains import ActionChains"
   ]
  },
  {
   "cell_type": "markdown",
   "metadata": {},
   "source": [
    "## Creating Driver and Opening Browser"
   ]
  },
  {
   "cell_type": "code",
   "execution_count": 2,
   "metadata": {},
   "outputs": [],
   "source": [
    "options = Options()\n",
    "\n",
    "# for testing\n",
    "options.add_experimental_option('detach', True)\n",
    "options.add_argument('--start-maximized')\n",
    "\n",
    "# for scraping\n",
    "# options.add_argument(\"--headless=new\")\n",
    "\n",
    "# arguments\n",
    "options.add_argument(\"--no-sandbox\")\n",
    "options.add_argument(\"--disable-dev-shm-usage\")\n",
    "options.add_argument(\"--disable-gpu\")\n",
    "# options.add_argument(\"--disable-blink-features=AutomationControlled\")\n",
    "# options.add_argument(\"--disable-client-side-phishing-detection\")\n",
    "# options.add_argument(\"--enable-automation\")\n",
    "# options.add_argument(\"--disable-extensions\")\n",
    "# options.add_argument(\"--disable-infobars\")\n",
    "# options.add_argument(\"--disable-popup-blocking\")\n",
    "# options.add_argument(\"--disable-features=TranslateUI,BlinkGenPropertyTrees\")\n",
    "# options.add_argument(\"--disable-blink-features=AutomationControlled\")\n",
    "# options.add_argument(\"--disable-background-networking\")\n",
    "# options.add_argument(\"--disable-component-update\")\n",
    "# options.add_argument(\"--disable-default-apps\")\n",
    "# options.add_argument(\"--disable-sync\")\n",
    "# options.add_argument(\"--metrics-recording-only\")\n",
    "# options.add_argument(\"--mute-audio\")\n",
    "# options.add_argument(\"--no-first-run\")\n",
    "# options.add_argument(\"--safebrowsing-disable-auto-update\")\n",
    "\n",
    "options.add_experimental_option(\"excludeSwitches\", [\"enable-automation\"])\n",
    "options.add_experimental_option(\"useAutomationExtension\", False)\n",
    "\n",
    "prefs = {\n",
    "    \"profile.default_content_setting_values\": {\n",
    "        \"images\": 2,\n",
    "        # \"cookies\": 2,\n",
    "        # \"plugins\": 2,\n",
    "        # \"popups\": 2,\n",
    "        # \"geolocation\": 2,\n",
    "        # \"notifications\": 2,\n",
    "        # \"auto_select_certificate\": 2,\n",
    "        # \"fullscreen\": 2,\n",
    "        # \"mouselock\": 2,\n",
    "        # \"mixed_script\": 2,\n",
    "        # \"media_stream\": 2,\n",
    "        # \"media_stream_mic\": 2,\n",
    "        # \"media_stream_camera\": 2,\n",
    "        # \"protocol_handlers\": 2,\n",
    "        # \"ppapi_broker\": 2,\n",
    "        # \"automatic_downloads\": 2,\n",
    "        # \"midi_sysex\": 2,\n",
    "        # \"push_messaging\": 2,\n",
    "        # \"ssl_cert_decisions\": 2,\n",
    "        # \"metro_switch_to_desktop\": 2,\n",
    "        # \"protected_media_identifier\": 2,\n",
    "        # \"app_banner\": 2,\n",
    "        # \"site_engagement\": 2,\n",
    "        # \"durable_storage\": 2\n",
    "    }\n",
    "}\n",
    "# options.add_experimental_option(\"prefs\", prefs)\n",
    "\n",
    "driver = webdriver.Chrome(options=options)"
   ]
  },
  {
   "cell_type": "code",
   "execution_count": 3,
   "metadata": {},
   "outputs": [],
   "source": [
    "url = \"https://www.imdb.com/\"\n",
    "driver.get(url)"
   ]
  },
  {
   "cell_type": "markdown",
   "metadata": {},
   "source": [
    "## CSS Selectors and XPath"
   ]
  },
  {
   "cell_type": "markdown",
   "metadata": {},
   "source": [
    "### Select elements using tag name"
   ]
  },
  {
   "cell_type": "markdown",
   "metadata": {},
   "source": [
    "#### First element"
   ]
  },
  {
   "cell_type": "code",
   "execution_count": 7,
   "metadata": {},
   "outputs": [
    {
     "name": "stdout",
     "output_type": "stream",
     "text": [
      "7.9\n",
      "F1: The Movie\n",
      "Watchlist\n",
      "Trailer\n"
     ]
    }
   ],
   "source": [
    "item = driver.find_element(By.CSS_SELECTOR, \"div[class='ipc-poster-card ipc-poster-card--baseAlt ipc-poster-card--media-radius ipc-poster-card--dynamic-width fan-picks-title ipc-sub-grid-item ipc-sub-grid-item--span-2']\")\n",
    "print(item.text)"
   ]
  },
  {
   "cell_type": "code",
   "execution_count": 8,
   "metadata": {},
   "outputs": [
    {
     "name": "stdout",
     "output_type": "stream",
     "text": [
      "7.9\n",
      "F1: The Movie\n",
      "Watchlist\n",
      "Trailer\n"
     ]
    }
   ],
   "source": [
    "item = driver.find_element(By.XPATH, \"//div[@class='ipc-poster-card ipc-poster-card--baseAlt ipc-poster-card--media-radius ipc-poster-card--dynamic-width fan-picks-title ipc-sub-grid-item ipc-sub-grid-item--span-2']\")\n",
    "print(item.text)"
   ]
  },
  {
   "cell_type": "markdown",
   "metadata": {},
   "source": [
    "#### All element"
   ]
  },
  {
   "cell_type": "code",
   "execution_count": 10,
   "metadata": {},
   "outputs": [
    {
     "data": {
      "text/plain": [
       "30"
      ]
     },
     "execution_count": 10,
     "metadata": {},
     "output_type": "execute_result"
    }
   ],
   "source": [
    "items = driver.find_elements(By.CSS_SELECTOR, \"div.fan-picks-title\")\n",
    "len(items)"
   ]
  },
  {
   "cell_type": "markdown",
   "metadata": {},
   "source": [
    "### Select elements using class name"
   ]
  },
  {
   "cell_type": "code",
   "execution_count": 11,
   "metadata": {},
   "outputs": [
    {
     "name": "stdout",
     "output_type": "stream",
     "text": [
      "7.9\n",
      "F1: The Movie\n",
      "Watchlist\n",
      "Trailer\n"
     ]
    }
   ],
   "source": [
    "item = driver.find_element(By.CLASS_NAME, \"fan-picks-title\")\n",
    "print(item.text)"
   ]
  },
  {
   "cell_type": "code",
   "execution_count": null,
   "metadata": {},
   "outputs": [],
   "source": [
    "menu = driver.find_element(By.XPATH, '//a[@class=\"ipc-btn ipc-btn--single-padding ipc-btn--center-align-content ipc-btn--default-height ipc-btn--core-baseAlt ipc-btn--theme-baseAlt ipc-btn--button-radius imdb-header__signin-text\"]')\n",
    "menu.click()"
   ]
  },
  {
   "cell_type": "markdown",
   "metadata": {},
   "source": [
    "### Select element using ID"
   ]
  },
  {
   "cell_type": "code",
   "execution_count": null,
   "metadata": {},
   "outputs": [],
   "source": [
    "# item = driver.find_element(By.CSS_SELECTOR, \"label#imdbHeader-navDrawerOpen\")\n",
    "item = driver.find_element(By.XPATH, \"//label[@id='imdbHeader-navDrawerOpen']\")\n",
    "item.click()"
   ]
  },
  {
   "cell_type": "markdown",
   "metadata": {},
   "source": [
    "### Select element using attributes"
   ]
  },
  {
   "cell_type": "code",
   "execution_count": 14,
   "metadata": {},
   "outputs": [
    {
     "data": {
      "text/plain": [
       "'https://www.imdb.com/title/tt16311594/?ref_=hm_tpten_i_2'"
      ]
     },
     "execution_count": 14,
     "metadata": {},
     "output_type": "execute_result"
    }
   ],
   "source": [
    "# item = driver.find_element(By.XPATH, '//a[@aria-label=\"View title page for 2. F1: The Movie\"]')\n",
    "item = driver.find_element(By.CSS_SELECTOR, 'a[aria-label=\"View title page for 2. F1: The Movie\"]')\n",
    "item.get_attribute('href')\n"
   ]
  },
  {
   "cell_type": "markdown",
   "metadata": {},
   "source": [
    "### Select element using the text inside of it"
   ]
  },
  {
   "cell_type": "code",
   "execution_count": 17,
   "metadata": {},
   "outputs": [
    {
     "data": {
      "text/plain": [
       "'span'"
      ]
     },
     "execution_count": 17,
     "metadata": {},
     "output_type": "execute_result"
    }
   ],
   "source": [
    "# We cannot do this with css selectors.\n",
    "item = driver.find_element(By.XPATH, \"//span[text()='1. Jurassic World: Rebirth']\")\n",
    "item.tag_name"
   ]
  },
  {
   "cell_type": "markdown",
   "metadata": {},
   "source": [
    "### Select nested elements"
   ]
  },
  {
   "cell_type": "code",
   "execution_count": 18,
   "metadata": {},
   "outputs": [
    {
     "data": {
      "text/plain": [
       "'https://www.imdb.com/title/tt31036941/?ref_=hm_tpten_i_1'"
      ]
     },
     "execution_count": 18,
     "metadata": {},
     "output_type": "execute_result"
    }
   ],
   "source": [
    "tag_a = driver.find_element(By.XPATH, \"//div[@class='ipc-poster ipc-poster--baseAlt ipc-poster--media-radius ipc-poster--dynamic-width ipc-poster-card__poster ipc-sub-grid-item ipc-sub-grid-item--span-2']/a\")\n",
    "tag_a.get_attribute('href')"
   ]
  },
  {
   "cell_type": "code",
   "execution_count": 19,
   "metadata": {},
   "outputs": [
    {
     "data": {
      "text/plain": [
       "'https://www.imdb.com/title/tt31036941/?ref_=hm_tpten_i_1'"
      ]
     },
     "execution_count": 19,
     "metadata": {},
     "output_type": "execute_result"
    }
   ],
   "source": [
    "tag_a = driver.find_element(By.CSS_SELECTOR, \"div[class='ipc-poster ipc-poster--baseAlt ipc-poster--media-radius ipc-poster--dynamic-width ipc-poster-card__poster ipc-sub-grid-item ipc-sub-grid-item--span-2'] a\")\n",
    "tag_a.get_attribute('href')"
   ]
  },
  {
   "cell_type": "markdown",
   "metadata": {},
   "source": [
    "### After selecting the element:"
   ]
  },
  {
   "cell_type": "markdown",
   "metadata": {},
   "source": [
    "#### Get the text inside of the element"
   ]
  },
  {
   "cell_type": "code",
   "execution_count": 21,
   "metadata": {},
   "outputs": [
    {
     "name": "stdout",
     "output_type": "stream",
     "text": [
      "1. Jurassic World: Rebirth\n",
      "2. F1: The Movie\n",
      "3. Squid Game\n",
      "4. Sinners\n",
      "5. Heads of State\n",
      "6. The Bear\n",
      "7. The Old Guard 2\n",
      "8. The Sandman\n",
      "9. Ironheart\n",
      "10. 28 Years Later\n"
     ]
    }
   ],
   "source": [
    "item = driver.find_elements(By.CSS_SELECTOR, 'a[class=\"ipc-poster-card__title ipc-poster-card__title--clamp-2 ipc-poster-card__title--clickable\"] span')\n",
    "for it in item[:10]:\n",
    "    print(it.text)"
   ]
  },
  {
   "cell_type": "markdown",
   "metadata": {},
   "source": [
    "#### Get values of the attributes of the element"
   ]
  },
  {
   "cell_type": "code",
   "execution_count": 24,
   "metadata": {},
   "outputs": [
    {
     "data": {
      "text/plain": [
       "'ipc-image'"
      ]
     },
     "execution_count": 24,
     "metadata": {},
     "output_type": "execute_result"
    }
   ],
   "source": [
    "item = driver.find_element(By.CSS_SELECTOR, 'img[class=\"ipc-image\"]')\n",
    "img_class = item.get_attribute('class')\n",
    "img_class"
   ]
  },
  {
   "cell_type": "markdown",
   "metadata": {},
   "source": [
    "## Just XPath"
   ]
  },
  {
   "cell_type": "markdown",
   "metadata": {},
   "source": [
    "### Navigation (siblings - parents)"
   ]
  },
  {
   "cell_type": "markdown",
   "metadata": {},
   "source": [
    "#### Find parent of an element"
   ]
  },
  {
   "cell_type": "code",
   "execution_count": 25,
   "metadata": {},
   "outputs": [
    {
     "data": {
      "text/plain": [
       "'a'"
      ]
     },
     "execution_count": 25,
     "metadata": {},
     "output_type": "execute_result"
    }
   ],
   "source": [
    "item = driver.find_element(By.XPATH, '//span[text()=\"F1: The Movie\"]')\n",
    "parent = item.find_element(By.XPATH, \"./..\")\n",
    "parent.tag_name"
   ]
  },
  {
   "cell_type": "markdown",
   "metadata": {},
   "source": [
    "#### Find sibling of an element"
   ]
  },
  {
   "cell_type": "code",
   "execution_count": 44,
   "metadata": {},
   "outputs": [
    {
     "name": "stdout",
     "output_type": "stream",
     "text": [
      "tag_name: div \n",
      "text in tag: Watchlist\n",
      "Trailer\n",
      "tag_name: a \n",
      "text in tag: F1: The Movie\n"
     ]
    }
   ],
   "source": [
    "from traceback import print_tb\n",
    "\n",
    "\n",
    "item = driver.find_element(By.XPATH, '//span[text()=\"F1: The Movie\"]')\n",
    "parent = item.find_element(By.XPATH, \"./..\")\n",
    "following_sibling = parent.find_element(By.XPATH, \"./following-sibling::div[1]\")\n",
    "print('tag_name:', following_sibling.tag_name, \"\\ntext in tag:\", following_sibling.text)\n",
    "preceding_sibling = following_sibling.find_element(By.XPATH, \"./preceding-sibling::a\")\n",
    "print('tag_name:', preceding_sibling.tag_name, \"\\ntext in tag:\", preceding_sibling.text)"
   ]
  },
  {
   "cell_type": "markdown",
   "metadata": {},
   "source": [
    "## Action Chains"
   ]
  },
  {
   "cell_type": "code",
   "execution_count": null,
   "metadata": {},
   "outputs": [],
   "source": [
    "from selenium.webdriver.common.action_chains import ActionChains\n",
    "import time\n",
    "from random import uniform\n",
    "\n",
    "element = driver.find_element(By.CSS_SELECTOR, 'input[type=\"text\"]')\n",
    "action = ActionChains(driver)\n",
    "action.move_to_element(element).perform()\n",
    "action.click(element).perform()\n",
    "word = 'parent'\n",
    "for char in word:\n",
    "    action.send_keys(char).perform()\n",
    "    time.sleep(uniform(0, 0.5))"
   ]
  },
  {
   "cell_type": "markdown",
   "metadata": {},
   "source": [
    "## Scroll"
   ]
  },
  {
   "cell_type": "code",
   "execution_count": null,
   "metadata": {},
   "outputs": [],
   "source": [
    "old_height = 0\n",
    "new_height = driver.execute_script('return document.body,scorllHeight')\n",
    "\n",
    "while new_height != old_height:\n",
    "    driver.execute_script('window.scroll(0, document.body.scrollHeight);')\n",
    "    time.sleep(2)\n",
    "    old_height = new_height\n",
    "    new_height = driver.execute_script('return document.body,scorllHeight')\n"
   ]
  },
  {
   "cell_type": "markdown",
   "metadata": {},
   "source": [
    "## Wait"
   ]
  },
  {
   "cell_type": "code",
   "execution_count": null,
   "metadata": {},
   "outputs": [],
   "source": [
    "img = WebDriverWait(driver, 10).until(\n",
    "                EC.visibility_of_element_located(\n",
    "                    (By.CSS_SELECTOR, 'a[aria-label=\"View title page for Gladiator\"]'))\n",
    "            )\n",
    "img.get_attribute('href')"
   ]
  },
  {
   "cell_type": "markdown",
   "metadata": {},
   "source": [
    "## Download Images"
   ]
  },
  {
   "cell_type": "code",
   "execution_count": null,
   "metadata": {},
   "outputs": [],
   "source": [
    "import requests\n",
    "item = driver.find_element(By.CSS_SELECTOR, 'img[alt=\"28 Weeks Later\"]')\n",
    "img = item.get_attribute('src')\n",
    "\n",
    "response = requests.get(img)\n",
    "with open(f'images.jpg', 'wb') as imagefile:\n",
    "    imagefile.write(response.content)"
   ]
  }
 ],
 "metadata": {
  "kernelspec": {
   "display_name": "scraping_env",
   "language": "python",
   "name": "python3"
  },
  "language_info": {
   "codemirror_mode": {
    "name": "ipython",
    "version": 3
   },
   "file_extension": ".py",
   "mimetype": "text/x-python",
   "name": "python",
   "nbconvert_exporter": "python",
   "pygments_lexer": "ipython3",
   "version": "3.12.11"
  }
 },
 "nbformat": 4,
 "nbformat_minor": 2
}
