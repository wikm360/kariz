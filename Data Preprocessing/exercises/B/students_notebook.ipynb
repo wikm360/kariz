{
 "cells": [
  {
   "cell_type": "markdown",
   "id": "db3c137f",
   "metadata": {},
   "source": [
    "<div style=\"direction: rtl; text-align: right; font-family: Tahoma, sans-serif;\">\n",
    "<h1>تمرین پیش‌پردازش داده‌ها – گروه دوم - دانشجویان دوره آنلاین</h1>\n",
    "<h2></h2>\n",
    "\n",
    "<br>\n",
    "</div>"
   ]
  },
  {
   "cell_type": "markdown",
   "id": "9d559563",
   "metadata": {},
   "source": [
    "<div style=\"direction: rtl; text-align: right; font-family: Tahoma, sans-serif;\">\n",
    "<h1></h1> \n",
    "<h2>مقدمه</h2>\n",
    "\n",
    "در این تمرین، داده‌های رفتاری کاربران پلتفرم آموزش آنلاین را پردازش کرده و آماده تحلیل می‌کنید.\n",
    " \n",
    " هر وظیفه شامل دو بخش کد و سوال تشریحی میباشد\n",
    "\n",
    " بعد از نوشتن کد برای پاسخ به بخش تشریحی متن پاسخ خودتون رو در آخر کد به صورت کامنت شده بنویسید \n",
    "\n",
    "<br>\n",
    "</div>"
   ]
  },
  {
   "cell_type": "markdown",
   "id": "4a3cea9e",
   "metadata": {},
   "source": [
    "<div style=\"direction: rtl; text-align: right; font-family: Tahoma, sans-serif;\">\n",
    "<h1></h1>\n",
    "<h2>فایل ورودی</h2>\n",
    "\n",
    "شما باید فایل `online_students.csv` را بارگذاری کرده و مراحل زیر را روی آن انجام دهید.\n",
    "<br>\n",
    "</div>"
   ]
  },
  {
   "cell_type": "markdown",
   "id": "c6bf0234",
   "metadata": {},
   "source": [
    "<div style=\"direction: rtl; text-align: right; font-family: Tahoma, sans-serif;\">\n",
    "<h1></h1>\n",
    "<h2>وظایف</h2>\n",
    "\n",
    "<br>\n",
    "</div>"
   ]
  },
  {
   "cell_type": "markdown",
   "id": "10c434cc",
   "metadata": {},
   "source": [
    "<div style=\"direction: rtl; text-align: right; font-family: Tahoma, sans-serif;\">\n",
    "<h3>وظیفه 0:</h3>\n",
    "\n",
    "وارد کردن کتابخانه های مورد نیاز و فایل دیتاست\n",
    "<br>\n",
    "</div>"
   ]
  },
  {
   "cell_type": "code",
   "execution_count": null,
   "id": "4587a8e2",
   "metadata": {},
   "outputs": [],
   "source": [
    "# کد شما در این قسمت"
   ]
  },
  {
   "cell_type": "markdown",
   "id": "9afb7cbb",
   "metadata": {},
   "source": [
    "<div style=\"direction: rtl; text-align: right; font-family: Tahoma, sans-serif;\">\n",
    "<h3>وظیفه 1:</h3>\n",
    "\n",
    "بررسی و تحلیل داده‌های گمشده (Missing Values) و اعمال روش مناسب برای هندل کردن هر ستون.\n",
    "\n",
    "1- داده ها گمشده در چه ستون هایی قرار دارند؟؟ \n",
    "\n",
    "2- دلیل انتخاب روشی که اعمال کردین؟؟\n",
    "<br>\n",
    "</div>"
   ]
  },
  {
   "cell_type": "code",
   "execution_count": null,
   "id": "734480c1",
   "metadata": {},
   "outputs": [],
   "source": [
    "# کد شما در این قسمت\n"
   ]
  },
  {
   "cell_type": "markdown",
   "id": "a943c40a",
   "metadata": {},
   "source": [
    "<div style=\"direction: rtl; text-align: right; font-family: Tahoma, sans-serif;\">\n",
    "<h1></h1>\n",
    "<h2></h2>\n",
    "<h3>وظیفه 2:</h3>\n",
    "\n",
    "تشخیص داده‌های پرت در ستون‌ها .\n",
    "\n",
    "1- داده ها پرت در چه ستون هایی قرار دارند؟؟\n",
    "\n",
    "<br>\n",
    "</div>"
   ]
  },
  {
   "cell_type": "code",
   "execution_count": null,
   "id": "198c0f2c",
   "metadata": {},
   "outputs": [],
   "source": [
    "# کد شما در این قسمت\n"
   ]
  },
  {
   "cell_type": "markdown",
   "id": "35df325c",
   "metadata": {},
   "source": [
    "<div style=\"direction: rtl; text-align: right; font-family: Tahoma, sans-serif;\">\n",
    "<h1></h1>\n",
    "<h3>وظیفه 3:</h3>\n",
    "\n",
    "تبدیل ستون متنی به مقادیر عددی\n",
    "\n",
    "1- روش شما برای انجام اینکار چیست و دلیلش؟؟\n",
    "<br>\n",
    "</div>"
   ]
  },
  {
   "cell_type": "code",
   "execution_count": null,
   "id": "cdf9add4",
   "metadata": {},
   "outputs": [],
   "source": [
    "# کد شما در این قسمت\n"
   ]
  },
  {
   "cell_type": "markdown",
   "id": "ecfe24ab",
   "metadata": {},
   "source": [
    "<div style=\"direction: rtl; text-align: right; font-family: Tahoma, sans-serif;\">\n",
    "<h1></h1>\n",
    "<h3>وظیفه 4:</h3>\n",
    "\n",
    "ساخت ویژگی جدیدی به نام EngagementScore بر اساس مجموع زمان، تعداد پست و نمره تمرین.\n",
    "<br>\n",
    "</div>"
   ]
  },
  {
   "cell_type": "code",
   "execution_count": null,
   "id": "6fce66ec",
   "metadata": {},
   "outputs": [],
   "source": [
    "# کد شما در این قسمت\n"
   ]
  },
  {
   "cell_type": "markdown",
   "id": "b058dfb4",
   "metadata": {},
   "source": [
    "<div style=\"direction: rtl; text-align: right; font-family: Tahoma, sans-serif;\">\n",
    "<h1></h1>\n",
    "<h2></h2>\n",
    "<h3>وظیفه 5:</h3>\n",
    "اگر نوع تایپ ستون هارو فیکس نکردین ابتدا فیکس و سپس\n",
    "ذخیره فایل نهایی با نام `cleaned_students.csv`.\n",
    "<br>\n",
    "</div>"
   ]
  },
  {
   "cell_type": "code",
   "execution_count": null,
   "id": "f749b560",
   "metadata": {},
   "outputs": [],
   "source": [
    "# کد شما در این قسمت\n"
   ]
  }
 ],
 "metadata": {
  "kernelspec": {
   "display_name": "base",
   "language": "python",
   "name": "python3"
  },
  "language_info": {
   "codemirror_mode": {
    "name": "ipython",
    "version": 3
   },
   "file_extension": ".py",
   "mimetype": "text/x-python",
   "name": "python",
   "nbconvert_exporter": "python",
   "pygments_lexer": "ipython3",
   "version": "3.12.2"
  }
 },
 "nbformat": 4,
 "nbformat_minor": 5
}
