{
 "cells": [
  {
   "cell_type": "markdown",
   "id": "bbf9b977",
   "metadata": {},
   "source": [
    "<div style=\"direction: rtl; text-align: right; font-family: Tahoma, sans-serif;\">\n",
    "<h1>تمرین پیش‌پردازش داده‌ها – گروه اول - بیماران کلینیک</h1>\n",
    "<h2></h2>\n",
    "\n",
    "<br>\n",
    "\n",
    "</div>"
   ]
  },
  {
   "cell_type": "markdown",
   "id": "0ad1b3d0",
   "metadata": {},
   "source": [
    "<div style=\"direction: rtl; text-align: right; font-family: Tahoma, sans-serif;\">\n",
    "<h1></h1> \n",
    "<h2>مقدمه</h2>\n",
    "\n",
    " در این تمرین، شما باید داده‌های خام بیماران کلینیک را پاک‌سازی کرده و برای مدلسازی آماده کنید.\n",
    " \n",
    " هر وظیفه شامل دو بخش کد و سوال تشریحی میباشد\n",
    "\n",
    " بعد از نوشتن کد برای پاسخ به بخش تشریحی متن پاسخ خودتون رو در آخر کد به صورت کامنت شده بنویسید \n",
    "\n",
    "<br>\n",
    "</div>"
   ]
  },
  {
   "cell_type": "markdown",
   "id": "a688dee5",
   "metadata": {},
   "source": [
    "<div style=\"direction: rtl; text-align: right; font-family: Tahoma, sans-serif;\">\n",
    "<h1></h1>\n",
    "<h2>فایل ورودی</h2>\n",
    "\n",
    "شما باید فایل `patients_data.csv` را بارگذاری کرده و مراحل زیر را روی آن انجام دهید.\n",
    "<br>\n",
    "</div>"
   ]
  },
  {
   "cell_type": "markdown",
   "id": "e3787ddd",
   "metadata": {},
   "source": [
    "<div style=\"direction: rtl; text-align: right; font-family: Tahoma, sans-serif;\">\n",
    "<h1> </h1>\n",
    "<h2>وظایف</h2>\n",
    "<br>\n",
    "</div>"
   ]
  },
  {
   "cell_type": "markdown",
   "id": "7b5dd758",
   "metadata": {},
   "source": [
    "<div style=\"direction: rtl; text-align: right; font-family: Tahoma, sans-serif;\">\n",
    "<h3>وظیفه 0:</h3>\n",
    "\n",
    "وارد کردن کتابخانه های مورد نیاز و فایل دیتاست\n",
    "<br>\n",
    "</div>"
   ]
  },
  {
   "cell_type": "code",
   "execution_count": null,
   "id": "d5b7f69e",
   "metadata": {},
   "outputs": [],
   "source": [
    "# کد شما در این قسمت"
   ]
  },
  {
   "cell_type": "markdown",
   "id": "b893c006",
   "metadata": {},
   "source": [
    "<div style=\"direction: rtl; text-align: right; font-family: Tahoma, sans-serif;\">\n",
    "<h3>وظیفه 1:</h3>\n",
    "\n",
    "بررسی و تحلیل داده‌های گمشده (Missing Values) و اعمال روش مناسب برای هندل کردن هر ستون.\n",
    "\n",
    "1- داده ها گمشده در چه ستون هایی قرار دارند؟؟ \n",
    "\n",
    "2- دلیل انتخاب روشی که اعمال کردین؟؟\n",
    "<br>\n",
    "</div>"
   ]
  },
  {
   "cell_type": "code",
   "execution_count": 5,
   "id": "9bbc9070",
   "metadata": {},
   "outputs": [],
   "source": [
    "# کد شما در این قسمت\n"
   ]
  },
  {
   "cell_type": "markdown",
   "id": "0aa9bdf6",
   "metadata": {},
   "source": [
    "<div style=\"direction: rtl; text-align: right; font-family: Tahoma, sans-serif;\">\n",
    "<h1></h1>\n",
    "<h2></h2>\n",
    "<h3>وظیفه 2:</h3>\n",
    "\n",
    "تشخیص داده‌های پرت در ستون‌ها و حذف یا اصلاح آن‌ها.\n",
    "\n",
    "1- داده ها پرت در چه ستون هایی قرار دارند؟؟\n",
    "\n",
    "2- دلیل انتخاب روشی که پیاده سازی کردین؟؟(حذف یا اصلاح)\n",
    "<br>\n",
    "</div>"
   ]
  },
  {
   "cell_type": "code",
   "execution_count": null,
   "id": "bcf8d615",
   "metadata": {},
   "outputs": [],
   "source": [
    "# کد شما در این قسمت\n"
   ]
  },
  {
   "cell_type": "markdown",
   "id": "9d70d97a",
   "metadata": {},
   "source": [
    "<div style=\"direction: rtl; text-align: right; font-family: Tahoma, sans-serif;\">\n",
    "<h1></h1>\n",
    "<h2></h2>\n",
    "<h3>وظیفه 3:</h3>\n",
    "\n",
    "یک ویژگی جدید به نام RiskScore ایجاد کنید که مقدار آن برابر با میانگین سه ویژگی Age، BMI و GlucoseLevel برای هر فرد باشد.\n",
    "\n",
    "1- به نظرتون هدف از این کار چی میتونه باشه؟؟\n",
    "<br>\n",
    "</div>"
   ]
  },
  {
   "cell_type": "code",
   "execution_count": null,
   "id": "fdfadbab",
   "metadata": {},
   "outputs": [],
   "source": [
    "# کد شما در این قسمت\n"
   ]
  },
  {
   "cell_type": "markdown",
   "id": "19f57aac",
   "metadata": {},
   "source": [
    "<div style=\"direction: rtl; text-align: right; font-family: Tahoma, sans-serif;\">\n",
    "<h1></h1>\n",
    "<h2></h2>\n",
    "<h3>وظیفه 4:</h3>\n",
    "\n",
    "ذخیره فایل نهایی با نام `cleaned_patients.csv`.\n",
    "<br>\n",
    "</div>"
   ]
  },
  {
   "cell_type": "code",
   "execution_count": null,
   "id": "185ec77d",
   "metadata": {},
   "outputs": [],
   "source": [
    "# کد شما در این قسمت\n"
   ]
  },
  {
   "cell_type": "markdown",
   "id": "17db5d80",
   "metadata": {},
   "source": [
    "<div style=\"direction: rtl; text-align: right; font-family: Tahoma, sans-serif;\">\n",
    "<h1></h1>\n",
    "<h2>خروجی نهایی</h2>\n",
    "\n",
    "<br>\n",
    "</div>"
   ]
  },
  {
   "cell_type": "code",
   "execution_count": null,
   "id": "fbde48bf",
   "metadata": {},
   "outputs": [],
   "source": [
    "# ذخیره فایل خروجی نهایی\n",
    "# df_final.to_csv('cleaned_patients_data.csv', index=False)"
   ]
  }
 ],
 "metadata": {
  "kernelspec": {
   "display_name": "base",
   "language": "python",
   "name": "python3"
  },
  "language_info": {
   "codemirror_mode": {
    "name": "ipython",
    "version": 3
   },
   "file_extension": ".py",
   "mimetype": "text/x-python",
   "name": "python",
   "nbconvert_exporter": "python",
   "pygments_lexer": "ipython3",
   "version": "3.12.2"
  }
 },
 "nbformat": 4,
 "nbformat_minor": 5
}
